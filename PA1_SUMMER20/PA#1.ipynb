{
 "cells": [
  {
   "cell_type": "markdown",
   "metadata": {},
   "source": [
    "# PA 1: Exploratory Analysis over Federal Emergencies and Disasters"
   ]
  },
  {
   "cell_type": "markdown",
   "metadata": {},
   "source": [
    "## Student Details\n",
    "\n",
    "Student Name and ID: \n",
    "\n",
    "Notes:\n",
    "When submitting, fill your name and ID in this cell. Note that this is a markdown cell!\n",
    "Do not make any changes in the dataset file and do not rename the 'database.csv'.\n",
    "Rename your submission file to <b> 'yourLastName_Last4digitsofyourID_PA1.ipynb' </b>.\n",
    "Do not to forget to cite any external sources used by you.\n",
    "[2.5 points]\n"
   ]
  },
  {
   "cell_type": "markdown",
   "metadata": {},
   "source": [
    "## Assignment Details\n",
    "\n",
    "In this assignment, you will conduct a guided exploration over the Federal Emergencies and Disasters dataset. You will learn and use some of the most common exploration/aggregation/descriptive operations. This should also help you learn most of the key functionalities in Pandas.\n",
    "\n",
    "You will also learn how to use visualization libraries to identify patterns in data that will help in your further data analysis. You will also explore most popular chart types and how to use different libraries and styles to make your visualizations more attractive."
   ]
  },
  {
   "cell_type": "markdown",
   "metadata": {},
   "source": [
    "## Dataset Details\n",
    "\n",
    "In this assignment, you will work on 63 years of Federal Disasters dataset. Specifically, you will work on database.csv file from kaggle repository (https://www.kaggle.com/fema/federal-disasters). The file database.csv contains 46,184 rows and 14 columns. This dataset begins with the year 1953, and runs up to the year 2017. Each row corresponds to an emergency declared by the president due to a natural disaster all around the US. The columns of the data-set are:\n",
    "- Declaration Number - Unique number for each emergency declared\n",
    "- Declaration Type - Type of declaration\n",
    "- Declaration Date - Date of declaration\n",
    "- State - State affected\n",
    "- County - County affected\n",
    "- Disaster Type \n",
    "- Disaster Title\n",
    "- Start Date - The date event started\n",
    "- End Date - The date event ended\n",
    "- Close Date - End of Declaration\n",
    "- Individual Assistance Program - Whether IAP was provided or not?\n",
    "- Individuals & Households Program - Whether IHP was provided or not?\n",
    "- Public Assistance Program - Whether PAP was provided or not?\n",
    "- Hazard Mitigation Program - Whether HMP was provided or not?\n"
   ]
  },
  {
   "cell_type": "markdown",
   "metadata": {},
   "source": [
    "## Required Python Packages\n",
    "You will use the packages imported below in this assignment. \n",
    "Do NOT import any new packages without confirming with the TA. "
   ]
  },
  {
   "cell_type": "code",
   "execution_count": 1,
   "metadata": {},
   "outputs": [],
   "source": [
    "# special IPython command to prepare the notebook for matplotlib\n",
    "%matplotlib inline \n",
    "\n",
    "#Array processing\n",
    "import numpy as np\n",
    "#Data analysis, wrangling and common exploratory operations\n",
    "import pandas as pd\n",
    "from pandas import Series, DataFrame\n",
    "\n",
    "#For visualization. Matplotlib for basic viz and seaborn for more stylish figures\n",
    "import matplotlib.pyplot as plt\n",
    "import seaborn as sns"
   ]
  },
  {
   "cell_type": "markdown",
   "metadata": {},
   "source": [
    "# Reading Dataset\n",
    "The Python code below reads the Federal Emergencies and Disasters dataset into a Pandas data frame with the name df_data. \n",
    "For this code to work, the file 'database.csv' must be in the same folder as this file."
   ]
  },
  {
   "cell_type": "code",
   "execution_count": 2,
   "metadata": {},
   "outputs": [
    {
     "data": {
      "text/html": [
       "<div>\n",
       "<style scoped>\n",
       "    .dataframe tbody tr th:only-of-type {\n",
       "        vertical-align: middle;\n",
       "    }\n",
       "\n",
       "    .dataframe tbody tr th {\n",
       "        vertical-align: top;\n",
       "    }\n",
       "\n",
       "    .dataframe thead th {\n",
       "        text-align: right;\n",
       "    }\n",
       "</style>\n",
       "<table border=\"1\" class=\"dataframe\">\n",
       "  <thead>\n",
       "    <tr style=\"text-align: right;\">\n",
       "      <th></th>\n",
       "      <th>Declaration Number</th>\n",
       "      <th>Declaration Type</th>\n",
       "      <th>Declaration Date</th>\n",
       "      <th>State</th>\n",
       "      <th>County</th>\n",
       "      <th>Disaster Type</th>\n",
       "      <th>Disaster Title</th>\n",
       "      <th>Start Date</th>\n",
       "      <th>End Date</th>\n",
       "      <th>Close Date</th>\n",
       "      <th>Individual Assistance Program</th>\n",
       "      <th>Individuals &amp; Households Program</th>\n",
       "      <th>Public Assistance Program</th>\n",
       "      <th>Hazard Mitigation Program</th>\n",
       "    </tr>\n",
       "  </thead>\n",
       "  <tbody>\n",
       "    <tr>\n",
       "      <th>0</th>\n",
       "      <td>DR-1</td>\n",
       "      <td>Disaster</td>\n",
       "      <td>05/02/1953</td>\n",
       "      <td>GA</td>\n",
       "      <td>NaN</td>\n",
       "      <td>Tornado</td>\n",
       "      <td>Tornado</td>\n",
       "      <td>05/02/1953</td>\n",
       "      <td>05/02/1953</td>\n",
       "      <td>06/01/1954</td>\n",
       "      <td>Yes</td>\n",
       "      <td>No</td>\n",
       "      <td>Yes</td>\n",
       "      <td>Yes</td>\n",
       "    </tr>\n",
       "    <tr>\n",
       "      <th>1</th>\n",
       "      <td>DR-2</td>\n",
       "      <td>Disaster</td>\n",
       "      <td>05/15/1953</td>\n",
       "      <td>TX</td>\n",
       "      <td>NaN</td>\n",
       "      <td>Tornado</td>\n",
       "      <td>Tornado and Heavy Rainfall</td>\n",
       "      <td>05/15/1953</td>\n",
       "      <td>05/15/1953</td>\n",
       "      <td>01/01/1958</td>\n",
       "      <td>Yes</td>\n",
       "      <td>No</td>\n",
       "      <td>Yes</td>\n",
       "      <td>Yes</td>\n",
       "    </tr>\n",
       "    <tr>\n",
       "      <th>2</th>\n",
       "      <td>DR-3</td>\n",
       "      <td>Disaster</td>\n",
       "      <td>05/29/1953</td>\n",
       "      <td>LA</td>\n",
       "      <td>NaN</td>\n",
       "      <td>Flood</td>\n",
       "      <td>Flood</td>\n",
       "      <td>05/29/1953</td>\n",
       "      <td>05/29/1953</td>\n",
       "      <td>02/01/1960</td>\n",
       "      <td>Yes</td>\n",
       "      <td>No</td>\n",
       "      <td>Yes</td>\n",
       "      <td>Yes</td>\n",
       "    </tr>\n",
       "    <tr>\n",
       "      <th>3</th>\n",
       "      <td>DR-4</td>\n",
       "      <td>Disaster</td>\n",
       "      <td>06/02/1953</td>\n",
       "      <td>MI</td>\n",
       "      <td>NaN</td>\n",
       "      <td>Tornado</td>\n",
       "      <td>Tornado</td>\n",
       "      <td>06/02/1953</td>\n",
       "      <td>06/02/1953</td>\n",
       "      <td>02/01/1956</td>\n",
       "      <td>Yes</td>\n",
       "      <td>No</td>\n",
       "      <td>Yes</td>\n",
       "      <td>Yes</td>\n",
       "    </tr>\n",
       "    <tr>\n",
       "      <th>4</th>\n",
       "      <td>DR-5</td>\n",
       "      <td>Disaster</td>\n",
       "      <td>06/06/1953</td>\n",
       "      <td>MT</td>\n",
       "      <td>NaN</td>\n",
       "      <td>Flood</td>\n",
       "      <td>Floods</td>\n",
       "      <td>06/06/1953</td>\n",
       "      <td>06/06/1953</td>\n",
       "      <td>12/01/1955</td>\n",
       "      <td>Yes</td>\n",
       "      <td>No</td>\n",
       "      <td>Yes</td>\n",
       "      <td>Yes</td>\n",
       "    </tr>\n",
       "  </tbody>\n",
       "</table>\n",
       "</div>"
      ],
      "text/plain": [
       "  Declaration Number Declaration Type Declaration Date State County  \\\n",
       "0               DR-1         Disaster       05/02/1953    GA    NaN   \n",
       "1               DR-2         Disaster       05/15/1953    TX    NaN   \n",
       "2               DR-3         Disaster       05/29/1953    LA    NaN   \n",
       "3               DR-4         Disaster       06/02/1953    MI    NaN   \n",
       "4               DR-5         Disaster       06/06/1953    MT    NaN   \n",
       "\n",
       "  Disaster Type              Disaster Title  Start Date    End Date  \\\n",
       "0       Tornado                     Tornado  05/02/1953  05/02/1953   \n",
       "1       Tornado  Tornado and Heavy Rainfall  05/15/1953  05/15/1953   \n",
       "2         Flood                       Flood  05/29/1953  05/29/1953   \n",
       "3       Tornado                     Tornado  06/02/1953  06/02/1953   \n",
       "4         Flood                      Floods  06/06/1953  06/06/1953   \n",
       "\n",
       "   Close Date Individual Assistance Program Individuals & Households Program  \\\n",
       "0  06/01/1954                           Yes                               No   \n",
       "1  01/01/1958                           Yes                               No   \n",
       "2  02/01/1960                           Yes                               No   \n",
       "3  02/01/1956                           Yes                               No   \n",
       "4  12/01/1955                           Yes                               No   \n",
       "\n",
       "  Public Assistance Program Hazard Mitigation Program  \n",
       "0                       Yes                       Yes  \n",
       "1                       Yes                       Yes  \n",
       "2                       Yes                       Yes  \n",
       "3                       Yes                       Yes  \n",
       "4                       Yes                       Yes  "
      ]
     },
     "execution_count": 2,
     "metadata": {},
     "output_type": "execute_result"
    }
   ],
   "source": [
    "#read the csv file into a Pandas data frame\n",
    "df_data = pd.read_csv('database.csv', encoding='latin1')\n",
    "\n",
    "#return the first 5 rows of the dataset\n",
    "df_data.head()"
   ]
  },
  {
   "cell_type": "markdown",
   "metadata": {},
   "source": [
    "# Task 1: Statistical Exploratory Data Analysis\n",
    "Let us start with getting to know the dataset. Your first task will be to get some basic information by using Pandas features."
   ]
  },
  {
   "cell_type": "code",
   "execution_count": 3,
   "metadata": {
    "scrolled": true
   },
   "outputs": [
    {
     "name": "stdout",
     "output_type": "stream",
     "text": [
      ">>Task 1-a: Details of df_data data frame are: \n",
      " None\n",
      "\n",
      "\n",
      ">>Task 1-b: Number of rows:None and number of columns:None\n",
      "\n",
      "\n",
      ">>Task 1-c: Descriptive details of 'Start Date' column are\n",
      " None\n",
      "\n",
      "\n",
      " >>Task 1-d:\n",
      "None\n",
      "#####################################################\n",
      "None\n"
     ]
    }
   ],
   "source": [
    "#For each task below, look for a Pandas function to do the task.\n",
    "#Replace None in each task with your code.\n",
    "\n",
    "# 2.5 points\n",
    "#Task 1-a: Print the details of the df_data data frame (information such as number of rows,columns, name of columns, etc)\n",
    "print (\">>Task 1-a: Details of df_data data frame are: \\n\", None ) \n",
    "\n",
    "# 2.5 points\n",
    "#Task 1-b: Find the number of rows and columns in the df_data data frame.\n",
    "num_rows = None\n",
    "num_cols = None\n",
    "print (\"\\n\\n>>Task 1-b: Number of rows:%s and number of columns:%s\" % (num_rows, num_cols)) \n",
    "\n",
    "# 2.5 points\n",
    "#Task 1-c: Print the descriptive detail (count, unique, top, freq etc) for 'Start Date' column of the df_data \n",
    "\n",
    "print (\"\\n\\n>>Task 1-c: Descriptive details of 'Start Date' column are\\n\",None)\n",
    "\n",
    "# 10 points\n",
    "#Task 1-d: Print ALL the unique values of Disaster Title and Counties  .\n",
    "disaster_title_list  = None\n",
    "unique_county_list = None\n",
    "\n",
    "print (\"\\n\\n >>Task 1-d:\")\n",
    "print(disaster_title_list)\n",
    "print(\"#####################################################\")\n",
    "print(unique_county_list) \n",
    "\n"
   ]
  },
  {
   "cell_type": "markdown",
   "metadata": {},
   "source": [
    "# Task 2: Aggregation & Filtering & Rank\n",
    "In this task, we will perform some very high level aggregation and filtering operations. \n",
    "Then, we will apply ranking on the results for some tasks. \n",
    "Pandas has a convenient and powerful syntax for aggregation, filtering, and ranking. \n",
    "DO NOT write a for loop. Pandas has built-in functions for all tasks. "
   ]
  },
  {
   "cell_type": "code",
   "execution_count": 4,
   "metadata": {},
   "outputs": [
    {
     "name": "stdout",
     "output_type": "stream",
     "text": [
      ">>Task 2-a: The declaration titles of type 'Emergency' which lasted more than 120 days are None\n",
      "\n",
      "\n",
      ">>Task 2-b: The total number of declarations in 1998-1999 for the state of Texas were None\n",
      "\n",
      "\n",
      ">>Task 2-c: top 10 counties with the most disasters for all years are: \n",
      "None\n",
      "\n",
      "\n",
      ">>Task 2-c: top 10 counties with the most emergencies for all years are: \n",
      "None\n"
     ]
    }
   ],
   "source": [
    "# 8 points\n",
    "#Task 2-a: Find out the declaration titles of type 'Emergency' which lasted more than 120 days\n",
    "\n",
    "Emergency_greater_120 = None\n",
    "print (\">>Task 2-a: The declaration titles of type 'Emergency' which lasted more than 120 days are %s\" \n",
    "       % (Emergency_greater_120))\n",
    "\n",
    "# 8 points\n",
    "#Task 2-b: Find out the total number of declarations between 1998 and 1999 where Individual Assistance Program was provided for the state of Texas.\n",
    "#\n",
    "\n",
    "\n",
    "num_declarations_1998_1999 = None\n",
    "\n",
    "print (\"\\n\\n>>Task 2-b: The total number of declarations in 1998-1999 for the state of Texas were %s\" \n",
    "       % (num_declarations_1998_1999))\n",
    "\n",
    "# 14 points\n",
    "#Task 2-c: Find out the top 10 counties with the declaration type 'Disaster' and 'Emergency' for all years.\n",
    "n = 10\n",
    "top10_disasters=None\n",
    "top10_emergencies=None\n",
    "print (\"\\n\\n>>Task 2-c: top 10 counties with the most disasters for all years are: \\n%s\" % (top10_disasters))\n",
    "print (\"\\n\\n>>Task 2-c: top 10 counties with the most emergencies for all years are: \\n%s\" % (top10_emergencies))\n",
    "\n",
    "\n"
   ]
  },
  {
   "cell_type": "markdown",
   "metadata": {},
   "source": [
    "# Task 3: Visualization\n",
    "In this task, you will perform a number of visualization tasks to get some intuition about the data. Visualization is a key component of exploration. You can choose to use either Matplotlib or Seaborn for plotting. The default figures generated from Matplotlib may look unaesthetic and so you might want to try Seaborn to get better figures. Seaborn has a variety of styles. Feel free to experiment with them and choose the one you like. We have assigned 10 points for the aesthetics of your visualizations."
   ]
  },
  {
   "cell_type": "code",
   "execution_count": 5,
   "metadata": {},
   "outputs": [],
   "source": [
    "sns.set_style('whitegrid')\n",
    "sns.set(font_scale = 1.3)\n",
    "\n",
    "# 10 points\n",
    "# Task 3-a: Plot the declaration count for each state . \n",
    "# Think of a way to nicely visualize all the states! \n",
    "#########################begin code for Task 3-a\n",
    "\n",
    "\n",
    "#########################end code for Task 3-a\n",
    "\n",
    "# 20 points\n",
    "# Task 3-b: Draw a pie chart that represents Declaration type.\n",
    "#########################begin code for Task 3-b \n",
    "\n",
    "#########################end code for Task 3-b"
   ]
  },
  {
   "cell_type": "markdown",
   "metadata": {},
   "source": [
    "# Task 4: \n",
    "Find out an 'interesting' information from the dataset. Create a visualization for it and explain in a few lines your reasoning. \n",
    "\n",
    "This task is worth 20 points. Your result will be judged based on the uniqueness and quality of your work (having a meaningful result and an aesthetic visualization). "
   ]
  },
  {
   "cell_type": "code",
   "execution_count": 6,
   "metadata": {},
   "outputs": [],
   "source": [
    "#########################begin code for Task 4\n",
    "\n",
    "#########################end code for Task 4"
   ]
  },
  {
   "cell_type": "markdown",
   "metadata": {},
   "source": [
    "# Task 5:\n",
    "\n",
    "Use Weka to \n",
    "1) Find out how to convert the used dataset in weka format \n",
    "2) Convert it \n",
    "3) use the weka visualizer to produce some graphs."
   ]
  },
  {
   "cell_type": "code",
   "execution_count": null,
   "metadata": {},
   "outputs": [],
   "source": [
    "# 20 point\n",
    "#########################begin code for Task 5\n",
    "\n",
    "#########################end code for Task 5"
   ]
  }
 ],
 "metadata": {
  "kernelspec": {
   "display_name": "Python(chs_py36)",
   "language": "python",
   "name": "myenv"
  },
  "language_info": {
   "codemirror_mode": {
    "name": "ipython",
    "version": 3
   },
   "file_extension": ".py",
   "mimetype": "text/x-python",
   "name": "python",
   "nbconvert_exporter": "python",
   "pygments_lexer": "ipython3",
   "version": "3.6.10"
  }
 },
 "nbformat": 4,
 "nbformat_minor": 1
}
